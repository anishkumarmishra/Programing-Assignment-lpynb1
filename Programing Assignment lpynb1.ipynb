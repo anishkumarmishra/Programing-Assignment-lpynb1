{
  "nbformat": 4,
  "nbformat_minor": 0,
  "metadata": {
    "colab": {
      "provenance": []
    },
    "kernelspec": {
      "name": "python3",
      "display_name": "Python 3"
    },
    "language_info": {
      "name": "python"
    }
  },
  "cells": [
    {
      "cell_type": "markdown",
      "source": [
        "###1. Write a Python program to print &quot;Hello Python&quot;?"
      ],
      "metadata": {
        "id": "cwUdHgwdpYgT"
      }
    },
    {
      "cell_type": "code",
      "source": [
        "print(\"HELLO\", \"ANISH\")"
      ],
      "metadata": {
        "colab": {
          "base_uri": "https://localhost:8080/"
        },
        "id": "R7rb5rX6px0j",
        "outputId": "9f0bfe49-b4b6-4a44-f302-9b366ca4c301"
      },
      "execution_count": 3,
      "outputs": [
        {
          "output_type": "stream",
          "name": "stdout",
          "text": [
            "HELLO ANISH\n"
          ]
        }
      ]
    },
    {
      "cell_type": "markdown",
      "source": [
        "###2. Write a Python program to do arithmetical operations addition and division.?"
      ],
      "metadata": {
        "id": "o98XHlyAp6gq"
      }
    },
    {
      "cell_type": "code",
      "source": [
        "import operator\n",
        "\n",
        "print(\"\"\" select a Arithmetical Operatior:\n",
        "      Addition +\n",
        "      Subtraction -\n",
        "      Multiplication *\n",
        "      Division /\n",
        "      Stop S\"\"\")\n",
        "while True:\n",
        "  Operation = input(\"Enter a Arithmetical Operation: \")\n",
        "  if Operation.lower()==\"s\":\n",
        "    print(\"Program Stop Successfully\")\n",
        "    break\n",
        "  if Operation in ('+','-','*','/'):\n",
        "    num_1 =int(input('Enter the Number: '))\n",
        "    num_2=int(input('Enter the number: '))\n",
        "\n",
        "    if Operation=='+':\n",
        "      print(\"This is a addition operation: \" ,num_1 + num_2)\n",
        "    elif Operation == '-':\n",
        "            print(\"This is a Subtraction operation: \", num_1 - num_2)\n",
        "    elif Operation == '*':\n",
        "            print(\"This is a Multiplication operation: \", num_1 * num_2)\n",
        "    elif Operation == '/':\n",
        "      if num_2 !=0:\n",
        "            print(\"This is a Division operation: \", num_1 / num_2)\n",
        "      else:\n",
        "        print(\"can not divide by Zero\")\n",
        "  else:\n",
        "    print('invalid Operation, please try Again')\n"
      ],
      "metadata": {
        "colab": {
          "base_uri": "https://localhost:8080/"
        },
        "id": "UtDu10vHp_Iq",
        "outputId": "6e2a37fc-1066-4e64-b796-768be0013e5c"
      },
      "execution_count": 30,
      "outputs": [
        {
          "output_type": "stream",
          "name": "stdout",
          "text": [
            " select a Arithmetical Operatior:\n",
            "      Addition +\n",
            "      Subtraction -\n",
            "      Multiplication *\n",
            "      Division /\n",
            "      Stop S\n",
            "Enter a Arithmetical Operation: +\n",
            "Enter the Number: 20\n",
            "Enter the number: 20\n",
            "This is a addition operation:  40\n",
            "Enter a Arithmetical Operation: -\n",
            "Enter the Number: 20\n",
            "Enter the number: 10\n",
            "This is a Subtraction operation:  10\n",
            "Enter a Arithmetical Operation: *\n",
            "Enter the Number: 40\n",
            "Enter the number: 2\n",
            "This is a Multiplication operation:  80\n",
            "Enter a Arithmetical Operation: /\n",
            "Enter the Number: 20\n",
            "Enter the number: 2\n",
            "This is a Division operation:  10.0\n",
            "Enter a Arithmetical Operation: s\n",
            "Program Stop Successfully\n"
          ]
        }
      ]
    },
    {
      "cell_type": "markdown",
      "source": [
        "###3. Write a Python program to find the area of a triangle?"
      ],
      "metadata": {
        "id": "8fI68udH3mPX"
      }
    },
    {
      "cell_type": "code",
      "source": [
        "Height = int(input('Enter the Height: '))\n",
        "base = int(input('Enter the base: '))\n",
        "\n",
        "def a(Height,base):\n",
        "  print('Area of Triangle:',1*Height*base)\n",
        "a(Height,base)"
      ],
      "metadata": {
        "colab": {
          "base_uri": "https://localhost:8080/"
        },
        "id": "4UEhXUcI30YF",
        "outputId": "3cd08548-7b38-4954-9b96-a6eb4280179a"
      },
      "execution_count": 37,
      "outputs": [
        {
          "output_type": "stream",
          "name": "stdout",
          "text": [
            "Enter the Height: 20\n",
            "Enter the base: 30\n",
            "Area of Triangle: 600\n"
          ]
        }
      ]
    },
    {
      "cell_type": "markdown",
      "source": [
        "###4. Write a Python program to swap two variables?"
      ],
      "metadata": {
        "id": "qtetw6Kk7tl3"
      }
    },
    {
      "cell_type": "code",
      "source": [
        "num_1 = input(\"Enter The first number: \")\n",
        "num_2 = input(\"Enter The second number: \")\n",
        "\n",
        "def number(a,b):\n",
        "    temp = a\n",
        "    a = b\n",
        "    b = temp\n",
        "    return a,b\n",
        "print('Before swapping',num_1, num_2)\n",
        "num_1, num_2 = number(num_1, num_2)\n",
        "print('After swapping -> ',num_1,num_2)"
      ],
      "metadata": {
        "colab": {
          "base_uri": "https://localhost:8080/"
        },
        "id": "nihlb1_J7v6A",
        "outputId": "45b5f99c-e980-4a89-de27-f71f6488a933"
      },
      "execution_count": 52,
      "outputs": [
        {
          "output_type": "stream",
          "name": "stdout",
          "text": [
            "Enter The first number: 2\n",
            "Enter The second number: 3\n",
            "Before swapping 2 3\n",
            "After swapping ->  3 2\n"
          ]
        }
      ]
    },
    {
      "cell_type": "markdown",
      "source": [
        "###5. Write a Python program to generate a random number?"
      ],
      "metadata": {
        "id": "mvWKG3a4A9Ly"
      }
    },
    {
      "cell_type": "code",
      "source": [
        "from random import randint\n",
        "def randomnumber(start=0,end=10):\n",
        "  print(\"random Number\",randint(start,end))\n",
        "\n",
        "randomnumber()\n",
        "randomnumber(1,6)"
      ],
      "metadata": {
        "colab": {
          "base_uri": "https://localhost:8080/"
        },
        "id": "_vUYWWX2FnZT",
        "outputId": "94d38802-e9e1-4534-a169-fa748649d5d8"
      },
      "execution_count": 92,
      "outputs": [
        {
          "output_type": "stream",
          "name": "stdout",
          "text": [
            "random Number 2\n",
            "random Number 2\n"
          ]
        }
      ]
    }
  ]
}